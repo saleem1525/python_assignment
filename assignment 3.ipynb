{
 "cells": [
  {
   "cell_type": "code",
   "execution_count": 1,
   "metadata": {},
   "outputs": [
    {
     "name": "stdout",
     "output_type": "stream",
     "text": [
      "Enter First Number = 2\n",
      "Enter Second Number = 3\n",
      "Enter Operator = +\n",
      "Result =  5\n"
     ]
    }
   ],
   "source": [
    "num1 = int(input(\"Enter First Number = \"))\n",
    "num2 = int(input(\"Enter Second Number = \"))\n",
    "Operator = input(\"Enter Operator = \")\n",
    "\n",
    "if Operator == '+':\n",
    "    result = num1 + num2\n",
    "elif Operator == '-':\n",
    "    result = num1 - num2\n",
    "elif Operator == '*':\n",
    "    result = num1 * num2\n",
    "elif Operator == '/':\n",
    "    result = num1 / num2\n",
    "else:\n",
    "    print(\"Input character is not recognized!\")\n",
    "\n",
    "print(\"Result = \", result)"
   ]
  },
  {
   "cell_type": "code",
   "execution_count": 2,
   "metadata": {},
   "outputs": [
    {
     "name": "stdout",
     "output_type": "stream",
     "text": [
      "[1, 2, 3, 44, 88, 99]\n"
     ]
    }
   ],
   "source": [
    "n =['a',1,2,3,\"s\",44,88,99,\"d\",\"f\",\"g\"]\n",
    "d=[]\n",
    "for  x in range(0,len(n)):\n",
    "    if str(n[x]).isdigit():\n",
    "        d.append(n[x])\n",
    "print(d)"
   ]
  },
  {
   "cell_type": "code",
   "execution_count": 4,
   "metadata": {},
   "outputs": [
    {
     "name": "stdout",
     "output_type": "stream",
     "text": [
      "Please enter the Key : address\n",
      "Please enter the Value : Karachi\n",
      "\n",
      "Updated Dictionary =  {'address': 'Karachi'}\n"
     ]
    }
   ],
   "source": [
    "# Python Program to Add Key-Value Pair to a Dictionary\n",
    "\n",
    "key = input(\"Please enter the Key : \")\n",
    "value = input(\"Please enter the Value : \")\n",
    "\n",
    "myDict = {}\n",
    "\n",
    "# Add Key-Value Pair to a Dictionary in Python\n",
    "myDict.update({key:value})\n",
    "print(\"\\nUpdated Dictionary = \", myDict)"
   ]
  },
  {
   "cell_type": "code",
   "execution_count": 7,
   "metadata": {},
   "outputs": [
    {
     "name": "stdout",
     "output_type": "stream",
     "text": [
      "Total sum of values in the dictionary =  879\n"
     ]
    }
   ],
   "source": [
    "d={'A':100,'B':540,'C':239}\n",
    "print(\"Total sum of values in the dictionary = \",sum(d.values()))"
   ]
  },
  {
   "cell_type": "code",
   "execution_count": 13,
   "metadata": {},
   "outputs": [
    {
     "name": "stdout",
     "output_type": "stream",
     "text": [
      "my_list = [6, 7, 11, 15, 15, 20, 20, 20, 30, 30, 40, 40, 50, 50]\n",
      "duplicate values from list =  [15, 20, 30, 40, 50]\n"
     ]
    }
   ],
   "source": [
    "my_list = [20,30,20,30,40,50,15,11,20,40,50,15,6,7]\n",
    " \n",
    "my_list.sort()\n",
    "print(\"my_list =\",my_list)\n",
    " \n",
    "new_list = sorted(set(my_list))\n",
    "dup_list =[]\n",
    " \n",
    " \n",
    "for i in range(len(new_list)):\n",
    "        if (my_list.count(new_list[i]) > 1 ):\n",
    "            dup_list.append(new_list[i])\n",
    "        \n",
    "print(\"duplicate values from list = \",dup_list)"
   ]
  },
  {
   "cell_type": "code",
   "execution_count": 12,
   "metadata": {},
   "outputs": [
    {
     "name": "stdout",
     "output_type": "stream",
     "text": [
      "Dictionary :  {'a': 'apple', 'b': 'Banana', 'o': 'Orange', 'm': 'Mango'}\n",
      "Please enter the Key you want to search for: a\n",
      "\n",
      "Key Exists in this Dictionary\n",
      "Key =  a  and Value =  apple\n"
     ]
    }
   ],
   "source": [
    "# Python Program to check if a Given key exists in a Dictionary\n",
    "\n",
    "myDict = {'a': 'apple', 'b': 'Banana' , 'o': 'Orange', 'm': 'Mango'}\n",
    "print(\"Dictionary : \", myDict)\n",
    "\n",
    "key = input(\"Please enter the Key you want to search for: \")\n",
    "\n",
    "# Check Whether the Given key exists in a Dictionary or Not\n",
    "if key in myDict.keys():\n",
    "    print(\"\\nKey Exists in this Dictionary\")\n",
    "    print(\"Key = \", key, \" and Value = \", myDict[key])\n",
    "else:\n",
    "    print(\"\\nKey Does not Exists in this Dictionary\")"
   ]
  },
  {
   "cell_type": "code",
   "execution_count": null,
   "metadata": {},
   "outputs": [],
   "source": []
  }
 ],
 "metadata": {
  "kernelspec": {
   "display_name": "Python 3",
   "language": "python",
   "name": "python3"
  },
  "language_info": {
   "codemirror_mode": {
    "name": "ipython",
    "version": 3
   },
   "file_extension": ".py",
   "mimetype": "text/x-python",
   "name": "python",
   "nbconvert_exporter": "python",
   "pygments_lexer": "ipython3",
   "version": "3.7.4"
  }
 },
 "nbformat": 4,
 "nbformat_minor": 2
}
