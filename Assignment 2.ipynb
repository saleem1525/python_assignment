{
 "cells": [
  {
   "cell_type": "code",
   "execution_count": 12,
   "metadata": {},
   "outputs": [
    {
     "name": "stdout",
     "output_type": "stream",
     "text": [
      " The Roll Number:22\n",
      " User Name:saleem\n",
      "Marks of English course are: 77\n",
      "Marks of Math course are: 66\n",
      "Marks of Physics course are: 99\n",
      "Marks of Chemistry course are: 66\n",
      "Marks of Computer course are: 55\n",
      "Total Marks =  363\n",
      "Percentage Marks =  72.6 %\n",
      "grade is: A\n"
     ]
    }
   ],
   "source": [
    "Roll_No=input(\" The Roll Number:\")\n",
    "User_Name=input(\" User Name:\")\n",
    "m1 = int(input(\"Marks of English course are: \"));\n",
    "m2 = int(input(\"Marks of Math course are: \"));\n",
    "m3 = int(input(\"Marks of Physics course are: \"));\n",
    "m4 = int(input(\"Marks of Chemistry course are: \"));\n",
    "m5 = int(input(\"Marks of Computer course are: \"));\n",
    "sum = m1 + m2 + m3 + m4 + m5;\n",
    "average = sum/5;\n",
    "percentage = (sum/500)*100;\n",
    "print(\"Total Marks = \", sum);\n",
    "print(\"Percentage Marks = \", percentage,\"%\");\n",
    "if percentage >= 80:\n",
    "    print(\"grade is: A+ \")\n",
    "elif 70 <= percentage < 80:\n",
    "    print(\"grade is: A\")\n",
    "elif 60 <= percentage < 70:\n",
    "    print(\"grade is: B\")\n",
    "elif 50 <= percentage < 60:\n",
    "    print(\"grade is: C\")\n",
    "else:\n",
    "    print(\"grade is: D\")"
   ]
  },
  {
   "cell_type": "code",
   "execution_count": 13,
   "metadata": {},
   "outputs": [
    {
     "name": "stdout",
     "output_type": "stream",
     "text": [
      "Please Enter a Number : 66\n",
      "This Number is Even\n"
     ]
    }
   ],
   "source": [
    "number=int(input(\"Please Enter a Number : \"));  \n",
    "x=int(number/2)*2;  \n",
    "if(x==number):  \n",
    "    print(\"This Number is Even\")    \n",
    "else:  \n",
    "    print(\"This Number is Odd\")    "
   ]
  },
  {
   "cell_type": "code",
   "execution_count": 14,
   "metadata": {},
   "outputs": [
    {
     "name": "stdout",
     "output_type": "stream",
     "text": [
      "First list length :  3\n",
      "Second list length :  2\n"
     ]
    }
   ],
   "source": [
    "list1, list2 = [123, 'xyz', 'zara'], [456, 'abc']\n",
    "print (\"First list length : \", len(list1))\n",
    "print (\"Second list length : \", len(list2))"
   ]
  },
  {
   "cell_type": "code",
   "execution_count": 15,
   "metadata": {},
   "outputs": [
    {
     "name": "stdout",
     "output_type": "stream",
     "text": [
      "Largest element is: 99\n"
     ]
    }
   ],
   "source": [
    "# list of numbers \n",
    "list1 = [10, 20, 4, 45, 99] \n",
    "print(\"Largest element is:\", max(list1))"
   ]
  },
  {
   "cell_type": "code",
   "execution_count": 16,
   "metadata": {},
   "outputs": [
    {
     "name": "stdout",
     "output_type": "stream",
     "text": [
      "[1, 1, 2, 3]\n"
     ]
    }
   ],
   "source": [
    "# Take a list, say for example this one:\n",
    "#  a = [1, 1, 2, 3, 5, 8, 13, 21, 34, 55, 89]\n",
    "# and write a program that prints out all the elements of the list that are less than 5.\n",
    "\n",
    "my_list = [1, 1, 2, 3, 5, 8, 13, 21, 34, 55, 89]\n",
    "new_list = []\n",
    "\n",
    "for element in my_list:\n",
    "    if element < 5:\n",
    "        new_list.append(element)\n",
    "\n",
    "print(new_list)"
   ]
  },
  {
   "cell_type": "code",
   "execution_count": null,
   "metadata": {},
   "outputs": [],
   "source": []
  }
 ],
 "metadata": {
  "kernelspec": {
   "display_name": "Python 3",
   "language": "python",
   "name": "python3"
  },
  "language_info": {
   "codemirror_mode": {
    "name": "ipython",
    "version": 3
   },
   "file_extension": ".py",
   "mimetype": "text/x-python",
   "name": "python",
   "nbconvert_exporter": "python",
   "pygments_lexer": "ipython3",
   "version": "3.7.4"
  }
 },
 "nbformat": 4,
 "nbformat_minor": 2
}
