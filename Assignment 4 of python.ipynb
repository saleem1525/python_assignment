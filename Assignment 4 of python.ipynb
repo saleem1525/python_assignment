{
 "cells": [
  {
   "cell_type": "code",
   "execution_count": 2,
   "metadata": {},
   "outputs": [
    {
     "name": "stdout",
     "output_type": "stream",
     "text": [
      "first_name\n",
      "last_name\n",
      "age\n",
      "city\n",
      "inter\n",
      "{'first_name': 'saleem', 'last_name': 'raza', 'age': 28, 'city': 'karachi'}\n"
     ]
    }
   ],
   "source": [
    "person = {\n",
    "    'first_name': 'saleem',\n",
    "    'last_name': 'raza',\n",
    "    'age': 28,\n",
    "    'city': 'karachi',\n",
    "    }\n",
    "for info in person.values():\n",
    "    print(info)\n",
    "person.update({\"qualification\":\"inter\"})\n",
    "print(person[\"qualification\"])\n",
    "del person[\"qualification\"]\n",
    "print(person)"
   ]
  },
  {
   "cell_type": "code",
   "execution_count": 5,
   "metadata": {},
   "outputs": [
    {
     "name": "stdout",
     "output_type": "stream",
     "text": [
      "\n",
      "Kabul is in Afghanistan.\n",
      "  It has a population of about 4114000.\n",
      "  It is  Largest City Of Afghanistan fact.\n",
      "\n",
      "Luanda is in Angola.\n",
      "  It has a population of about 2571861.\n",
      "  It is Largest City In Angola fact.\n",
      "\n",
      "Gitega is in Burundi.\n",
      "  It has a population of about 120000.\n",
      "  It is Largest City In Burundi fact.\n"
     ]
    }
   ],
   "source": [
    "cities = {\n",
    "    'Kabul': {\n",
    "        'country': 'Afghanistan',\n",
    "        'population': 4114000,\n",
    "        'fact': ' largest city of Afghanistan',\n",
    "        },\n",
    "    'Luanda': {\n",
    "        'country': 'Angola',\n",
    "        'population': 2571861,\n",
    "        'fact': 'largest city in Angola',\n",
    "        },\n",
    "    'Gitega': {\n",
    "        'country': 'Burundi',\n",
    "        'population': 120000,\n",
    "        'fact': 'largest city in Burundi',\n",
    "        }\n",
    "    }\n",
    "\n",
    "for city, city_info in cities.items():\n",
    "    country = city_info['country'].title()\n",
    "    population = city_info['population']\n",
    "    fact = city_info['fact'].title()\n",
    "\n",
    "    print(\"\\n\" + city.title() + \" is in \" + country + \".\")\n",
    "    print(\"  It has a population of about \" + str(population) + \".\")\n",
    "    print(\"  It is \" + fact + \" fact.\")\n"
   ]
  },
  {
   "cell_type": "code",
   "execution_count": 7,
   "metadata": {},
   "outputs": [
    {
     "name": "stdout",
     "output_type": "stream",
     "text": [
      "How old are you?\n",
      "Enter 'q' when you are finished. 2\n",
      "  You get in free!\n",
      "How old are you?\n",
      "Enter 'q' when you are finished. 5\n",
      "  Your ticket is $10.\n",
      "How old are you?\n",
      "Enter 'q' when you are finished. 22\n",
      "  Your ticket is $15.\n",
      "How old are you?\n",
      "Enter 'q' when you are finished. q\n"
     ]
    }
   ],
   "source": [
    "prompt = \"How old are you?\"\n",
    "prompt += \"\\nEnter 'q' when you are finished. \"\n",
    "\n",
    "while True:\n",
    "    age = input(prompt)\n",
    "    if age == 'q':\n",
    "        break\n",
    "    age = int(age)\n",
    "\n",
    "    if age < 3:\n",
    "        print(\"  You get in free!\")\n",
    "    elif age < 13:\n",
    "        print(\"  Your ticket is $10.\")\n",
    "    else:\n",
    "        print(\"  Your ticket is $15.\")"
   ]
  },
  {
   "cell_type": "code",
   "execution_count": 19,
   "metadata": {},
   "outputs": [
    {
     "name": "stdout",
     "output_type": "stream",
     "text": [
      "One of my favorite books is Alice in Wonderland.\n"
     ]
    }
   ],
   "source": [
    "\n",
    "def favorite_book(title):\n",
    "    print(\"One of my favorite books is \" + title + \".\")\n",
    "\n",
    "\n",
    "favorite_book('Alice in Wonderland')\n"
   ]
  },
  {
   "cell_type": "code",
   "execution_count": 20,
   "metadata": {},
   "outputs": [
    {
     "name": "stdout",
     "output_type": "stream",
     "text": [
      "Guess a number one through thirty = 22\n",
      "too high\n",
      "Guess a number one through thirty = 11\n",
      "too low\n",
      "Guess a number one through thirty = 14\n",
      "You got it!\n"
     ]
    }
   ],
   "source": [
    "import random\n",
    "it=random.randint(1, 30)\n",
    "def main():\n",
    "    x=int(input('Guess a number one through thirty = '))\n",
    "    if x == it:\n",
    "        print(\"You got it!\")\n",
    "    elif x > it:\n",
    "        print(\"too high\")\n",
    "        main()\n",
    "    else:\n",
    "        print(\"too low\")\n",
    "        main()\n",
    "main()"
   ]
  },
  {
   "cell_type": "code",
   "execution_count": null,
   "metadata": {},
   "outputs": [],
   "source": []
  }
 ],
 "metadata": {
  "kernelspec": {
   "display_name": "Python 3",
   "language": "python",
   "name": "python3"
  },
  "language_info": {
   "codemirror_mode": {
    "name": "ipython",
    "version": 3
   },
   "file_extension": ".py",
   "mimetype": "text/x-python",
   "name": "python",
   "nbconvert_exporter": "python",
   "pygments_lexer": "ipython3",
   "version": "3.7.4"
  }
 },
 "nbformat": 4,
 "nbformat_minor": 2
}
